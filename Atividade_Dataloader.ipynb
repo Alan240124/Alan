{
  "nbformat": 4,
  "nbformat_minor": 0,
  "metadata": {
    "colab": {
      "provenance": [],
      "mount_file_id": "1cboVywQxQzz3yhYlGGg1DL0lYNsSH-CG",
      "authorship_tag": "ABX9TyPOLYgESEWh7I/iudyN199u",
      "include_colab_link": true
    },
    "kernelspec": {
      "name": "python3",
      "display_name": "Python 3"
    },
    "language_info": {
      "name": "python"
    }
  },
  "cells": [
    {
      "cell_type": "markdown",
      "metadata": {
        "id": "view-in-github",
        "colab_type": "text"
      },
      "source": [
        "<a href=\"https://colab.research.google.com/github/Alan240124/Alan/blob/main/Atividade_Dataloader.ipynb\" target=\"_parent\"><img src=\"https://colab.research.google.com/assets/colab-badge.svg\" alt=\"Open In Colab\"/></a>"
      ]
    },
    {
      "cell_type": "code",
      "execution_count": 1,
      "metadata": {
        "id": "_ptZSQmWtpgB"
      },
      "outputs": [],
      "source": [
        "import torch\n",
        "from torch.utils.data import DataLoader, Dataset\n"
      ]
    },
    {
      "cell_type": "code",
      "source": [
        "class MeuDataset(Dataset):\n",
        "    def __init__(self, dados, labels):\n",
        "        self.dados = dados\n",
        "        self.labels = labels\n",
        "\n",
        "    def __len__(self):\n",
        "        return len(self.dados)\n",
        "\n",
        "    def __getitem__(self, idx):\n",
        "        # Retorna a amostra e o rótulo correspondente\n",
        "        return self.dados[idx], self.labels[idx]"
      ],
      "metadata": {
        "id": "iLeSLyXkt1l1"
      },
      "execution_count": 2,
      "outputs": []
    },
    {
      "cell_type": "code",
      "source": [
        "# Dados de exemplo\n",
        "dados = torch.randn(100, 3)  # 100 amostras, 3 características cada\n",
        "labels = torch.randint(0, 2, (100,))  # 100 rótulos binários\n",
        "\n",
        "dataset = MeuDataset(dados, labels)"
      ],
      "metadata": {
        "id": "eVzx09vHt31T"
      },
      "execution_count": 3,
      "outputs": []
    },
    {
      "cell_type": "code",
      "source": [
        "batch_size = 16\n",
        "dataloader = DataLoader(dataset, batch_size=batch_size, shuffle=True, num_workers=2)"
      ],
      "metadata": {
        "id": "T4XoTn3NuFwP"
      },
      "execution_count": 4,
      "outputs": []
    },
    {
      "cell_type": "code",
      "source": [
        "for dados, labels in dataloader:\n",
        "    # Aqui você pode processar os dados, como treinar o modelo\n",
        "    print(dados.shape, labels.shape)  # Exemplo: exibir o tamanho dos batches"
      ],
      "metadata": {
        "colab": {
          "base_uri": "https://localhost:8080/"
        },
        "id": "0kiFdDFJuLyX",
        "outputId": "f81c280a-889e-47b1-8dfb-99f1d6ed1989"
      },
      "execution_count": 5,
      "outputs": [
        {
          "output_type": "stream",
          "name": "stdout",
          "text": [
            "torch.Size([16, 3]) torch.Size([16])\n",
            "torch.Size([16, 3]) torch.Size([16])\n",
            "torch.Size([16, 3]) torch.Size([16])\n",
            "torch.Size([16, 3]) torch.Size([16])\n",
            "torch.Size([16, 3]) torch.Size([16])\n",
            "torch.Size([16, 3]) torch.Size([16])\n",
            "torch.Size([4, 3]) torch.Size([4])\n"
          ]
        }
      ]
    },
    {
      "cell_type": "code",
      "source": [
        "import torch\n",
        "from torch.utils.data import DataLoader, Dataset\n",
        "\n",
        "# Definindo o Dataset personalizado\n",
        "class MeuDataset(Dataset):\n",
        "    def __init__(self, dados, labels):\n",
        "        self.dados = dados\n",
        "        self.labels = labels\n",
        "\n",
        "    def __len__(self):\n",
        "        return len(self.dados)\n",
        "\n",
        "    def __getitem__(self, idx):\n",
        "        return self.dados[idx], self.labels[idx]\n",
        "\n",
        "# Criando um dataset de exemplo\n",
        "dados = torch.randn(100, 3)  # 100 amostras, cada uma com 3 características\n",
        "labels = torch.randint(0, 2, (100,))  # 100 rótulos binários\n",
        "\n",
        "dataset = MeuDataset(dados, labels)\n",
        "\n",
        "# Criando o DataLoader\n",
        "batch_size = 16\n",
        "dataloader = DataLoader(dataset, batch_size=batch_size, shuffle=True, num_workers=2)\n",
        "\n",
        "# Iterando sobre o DataLoader\n",
        "for dados, labels in dataloader:\n",
        "    print(dados.shape, labels.shape)"
      ],
      "metadata": {
        "colab": {
          "base_uri": "https://localhost:8080/"
        },
        "id": "KfliClIDuO33",
        "outputId": "6c01c930-12ed-4ce0-c206-bfc193cc7fd4"
      },
      "execution_count": 14,
      "outputs": [
        {
          "output_type": "stream",
          "name": "stdout",
          "text": [
            "torch.Size([16, 3]) torch.Size([16])\n",
            "torch.Size([16, 3]) torch.Size([16])\n",
            "torch.Size([16, 3]) torch.Size([16])\n",
            "torch.Size([16, 3]) torch.Size([16])\n",
            "torch.Size([16, 3]) torch.Size([16])\n",
            "torch.Size([16, 3]) torch.Size([16])\n",
            "torch.Size([4, 3]) torch.Size([4])\n"
          ]
        }
      ]
    },
    {
      "cell_type": "code",
      "source": [
        "import torch\n",
        "from torch.utils.data import Dataset, DataLoader\n",
        "from torchvision import transforms\n",
        "from PIL import Image\n",
        "\n",
        "class HeartSegmentationDataset(Dataset):\n",
        "    def __init__(self, image_dir, mask_dir, transform=None):\n",
        "        self.image_dir = image_dir\n",
        "        self.mask_dir = mask_dir\n",
        "        self.transform = transform\n",
        "        self.image_names = sorted(os.listdir(image_dir))  # Listando nomes de arquivos\n",
        "\n",
        "    def __len__(self):\n",
        "        return len(self.image_names)\n",
        "\n",
        "    def __getitem__(self, idx):\n",
        "        # Carrega imagem e máscara usando os nomes de arquivos\n",
        "        img_path = os.path.join(self.image_dir, self.image_names[idx])\n",
        "        mask_path = os.path.join(self.mask_dir, self.image_names[idx].replace(\".png\", \"_mask.png\"))\n",
        "\n",
        "        image = Image.open(img_path).convert(\"RGB\")\n",
        "        mask = Image.open(mask_path).convert(\"L\")  # Máscara em escala de cinza\n",
        "\n",
        "        # Aplicando transformações\n",
        "        if self.transform:\n",
        "            image = self.transform(image)\n",
        "            mask = self.transform(mask)\n",
        "\n",
        "        return image, mask\n",
        "\n",
        "# Definindo transformações\n",
        "transform = transforms.Compose([\n",
        "    transforms.Resize((256, 256)),  # Tamanho padrão\n",
        "    transforms.ToTensor()\n",
        "])\n",
        "\n",
        "# Criando o dataset\n",
        "dataset = HeartSegmentationDataset(image_dir=\"/content/drive/MyDrive/DataSet_coracao/images\", mask_dir=\"/content/drive/MyDrive/DataSet_coracao/masks\", transform=transform)"
      ],
      "metadata": {
        "id": "DKvQF8_vubl7"
      },
      "execution_count": 12,
      "outputs": []
    },
    {
      "cell_type": "code",
      "source": [
        "batch_size = 10\n",
        "dataloader = DataLoader(dataset, batch_size=batch_size, shuffle=True)\n",
        "\n",
        "# Iterando sobre o dataloader\n",
        "for images, masks in dataloader:\n",
        "    print(images.shape)  # Exemplo: tamanho do batch de imagens\n",
        "    print(masks.shape)   # Exemplo: tamanho do batch de máscaras"
      ],
      "metadata": {
        "colab": {
          "base_uri": "https://localhost:8080/"
        },
        "id": "lS6wg0rV5VRh",
        "outputId": "7a710a52-8fde-44ca-f0cd-00ce936f4a2b"
      },
      "execution_count": 15,
      "outputs": [
        {
          "output_type": "stream",
          "name": "stdout",
          "text": [
            "torch.Size([10, 3])\n",
            "torch.Size([10])\n",
            "torch.Size([10, 3])\n",
            "torch.Size([10])\n",
            "torch.Size([10, 3])\n",
            "torch.Size([10])\n",
            "torch.Size([10, 3])\n",
            "torch.Size([10])\n",
            "torch.Size([10, 3])\n",
            "torch.Size([10])\n",
            "torch.Size([10, 3])\n",
            "torch.Size([10])\n",
            "torch.Size([10, 3])\n",
            "torch.Size([10])\n",
            "torch.Size([10, 3])\n",
            "torch.Size([10])\n",
            "torch.Size([10, 3])\n",
            "torch.Size([10])\n",
            "torch.Size([10, 3])\n",
            "torch.Size([10])\n"
          ]
        }
      ]
    },
    {
      "cell_type": "code",
      "source": [
        "import matplotlib.pyplot as plt\n",
        "\n",
        "# Pegando uma imagem e máscara aleatória\n",
        "image, mask = dataset[0]\n",
        "\n",
        "# Exibindo a imagem e a máscara\n",
        "fig, ax = plt.subplots(1, 2)\n",
        "ax[0].imshow(image.permute(1, 2, 0))  # Convertendo para formato HWC\n",
        "ax[0].set_title(\"Imagem de Coração\")\n",
        "ax[1].imshow(mask.squeeze(), cmap=\"gray\")  # Exibindo a máscara em escala de cinza\n",
        "ax[1].set_title(\"/content/drive/MyDrive/patient110-4dnii\")\n",
        "plt.show()"
      ],
      "metadata": {
        "id": "E4ZO2vHX5at0"
      },
      "execution_count": null,
      "outputs": []
    }
  ]
}